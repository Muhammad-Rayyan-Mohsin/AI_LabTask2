{
  "cells": [
    {
      "cell_type": "markdown",
      "metadata": {
        "id": "v8rqnoOM0NqI"
      },
      "source": [
        "# TASK 1\n",
        "dataset link : https://raw.githubusercontent.com/TirendazAcademy/PANDAS-TUTORIAL/main/DataSets/vgsalesGlobale.csv\n",
        "#Exercise\n",
        "Use the dataset of Game, we have explored earlier and perform following operations.\n",
        "\n",
        "* Calculate the total global sales for all games in the dataset.\n",
        "* Find the game with the highest global sales.\n",
        "* Determine the average sales for each region (NA_Sales, EU_Sales, JP_Sales, Other_Sales).\n",
        "* Find the top 5 most popular game genres based on global sales.\n",
        "* Calculate the total sales for each genre in each region and find the most popular genre in North America (NA_Sales).\n",
        "* Display last 10 rows.\n",
        "* Determine the top 3 gaming platforms with the highest global sales.\n",
        "* Calculate the market share (percentage of global sales) for each genre.\n",
        "* Calculate the correlation coefficient between NA_Sales and EU_Sales. (.corr function)"
      ]
    },
    {
      "cell_type": "code",
      "execution_count": 1,
      "metadata": {},
      "outputs": [
        {
          "data": {
            "text/html": [
              "<div>\n",
              "<style scoped>\n",
              "    .dataframe tbody tr th:only-of-type {\n",
              "        vertical-align: middle;\n",
              "    }\n",
              "\n",
              "    .dataframe tbody tr th {\n",
              "        vertical-align: top;\n",
              "    }\n",
              "\n",
              "    .dataframe thead th {\n",
              "        text-align: right;\n",
              "    }\n",
              "</style>\n",
              "<table border=\"1\" class=\"dataframe\">\n",
              "  <thead>\n",
              "    <tr style=\"text-align: right;\">\n",
              "      <th></th>\n",
              "      <th>Rank</th>\n",
              "      <th>Name</th>\n",
              "      <th>Platform</th>\n",
              "      <th>Year</th>\n",
              "      <th>Genre</th>\n",
              "      <th>Publisher</th>\n",
              "      <th>NA_Sales</th>\n",
              "      <th>EU_Sales</th>\n",
              "      <th>JP_Sales</th>\n",
              "      <th>Other_Sales</th>\n",
              "      <th>Global_Sales</th>\n",
              "    </tr>\n",
              "  </thead>\n",
              "  <tbody>\n",
              "    <tr>\n",
              "      <th>0</th>\n",
              "      <td>1</td>\n",
              "      <td>Wii Sports</td>\n",
              "      <td>Wii</td>\n",
              "      <td>2006.0</td>\n",
              "      <td>Sports</td>\n",
              "      <td>Nintendo</td>\n",
              "      <td>41.49</td>\n",
              "      <td>29.02</td>\n",
              "      <td>3.77</td>\n",
              "      <td>8.46</td>\n",
              "      <td>82.74</td>\n",
              "    </tr>\n",
              "    <tr>\n",
              "      <th>1</th>\n",
              "      <td>2</td>\n",
              "      <td>Super Mario Bros.</td>\n",
              "      <td>NES</td>\n",
              "      <td>1985.0</td>\n",
              "      <td>Platform</td>\n",
              "      <td>Nintendo</td>\n",
              "      <td>29.08</td>\n",
              "      <td>3.58</td>\n",
              "      <td>6.81</td>\n",
              "      <td>0.77</td>\n",
              "      <td>40.24</td>\n",
              "    </tr>\n",
              "    <tr>\n",
              "      <th>2</th>\n",
              "      <td>3</td>\n",
              "      <td>Mario Kart Wii</td>\n",
              "      <td>Wii</td>\n",
              "      <td>2008.0</td>\n",
              "      <td>Racing</td>\n",
              "      <td>Nintendo</td>\n",
              "      <td>15.85</td>\n",
              "      <td>12.88</td>\n",
              "      <td>3.79</td>\n",
              "      <td>3.31</td>\n",
              "      <td>35.82</td>\n",
              "    </tr>\n",
              "    <tr>\n",
              "      <th>3</th>\n",
              "      <td>4</td>\n",
              "      <td>Wii Sports Resort</td>\n",
              "      <td>Wii</td>\n",
              "      <td>2009.0</td>\n",
              "      <td>Sports</td>\n",
              "      <td>Nintendo</td>\n",
              "      <td>15.75</td>\n",
              "      <td>11.01</td>\n",
              "      <td>3.28</td>\n",
              "      <td>2.96</td>\n",
              "      <td>33.00</td>\n",
              "    </tr>\n",
              "    <tr>\n",
              "      <th>4</th>\n",
              "      <td>5</td>\n",
              "      <td>Pokemon Red/Pokemon Blue</td>\n",
              "      <td>GB</td>\n",
              "      <td>1996.0</td>\n",
              "      <td>Role-Playing</td>\n",
              "      <td>Nintendo</td>\n",
              "      <td>11.27</td>\n",
              "      <td>8.89</td>\n",
              "      <td>10.22</td>\n",
              "      <td>1.00</td>\n",
              "      <td>31.37</td>\n",
              "    </tr>\n",
              "  </tbody>\n",
              "</table>\n",
              "</div>"
            ],
            "text/plain": [
              "   Rank                      Name Platform    Year         Genre Publisher  \\\n",
              "0     1                Wii Sports      Wii  2006.0        Sports  Nintendo   \n",
              "1     2         Super Mario Bros.      NES  1985.0      Platform  Nintendo   \n",
              "2     3            Mario Kart Wii      Wii  2008.0        Racing  Nintendo   \n",
              "3     4         Wii Sports Resort      Wii  2009.0        Sports  Nintendo   \n",
              "4     5  Pokemon Red/Pokemon Blue       GB  1996.0  Role-Playing  Nintendo   \n",
              "\n",
              "   NA_Sales  EU_Sales  JP_Sales  Other_Sales  Global_Sales  \n",
              "0     41.49     29.02      3.77         8.46         82.74  \n",
              "1     29.08      3.58      6.81         0.77         40.24  \n",
              "2     15.85     12.88      3.79         3.31         35.82  \n",
              "3     15.75     11.01      3.28         2.96         33.00  \n",
              "4     11.27      8.89     10.22         1.00         31.37  "
            ]
          },
          "execution_count": 1,
          "metadata": {},
          "output_type": "execute_result"
        }
      ],
      "source": [
        "import pandas as pd\n",
        "import numpy as np\n",
        "\n",
        "df = pd.read_csv(\"vgsalesGlobale - vgsalesGlobale.csv\")\n",
        "df.head(5)"
      ]
    },
    {
      "cell_type": "code",
      "execution_count": 2,
      "metadata": {},
      "outputs": [
        {
          "name": "stdout",
          "output_type": "stream",
          "text": [
            "Total Global Sales: 8920.44\n"
          ]
        }
      ],
      "source": [
        "total_global_sales = df['Global_Sales'].sum()\n",
        "print(f'Total Global Sales: {total_global_sales}')"
      ]
    },
    {
      "cell_type": "code",
      "execution_count": 3,
      "metadata": {},
      "outputs": [
        {
          "name": "stdout",
          "output_type": "stream",
          "text": [
            "Game with Highest Global Sales: Wii Sports - 82.74\n"
          ]
        }
      ],
      "source": [
        "# Find the game with the highest global sales\n",
        "highest_sales_game = df.loc[df['Global_Sales'].idxmax()]\n",
        "print(f'Game with Highest Global Sales: {highest_sales_game[\"Name\"]} - {highest_sales_game[\"Global_Sales\"]}')"
      ]
    },
    {
      "cell_type": "code",
      "execution_count": 4,
      "metadata": {},
      "outputs": [
        {
          "name": "stdout",
          "output_type": "stream",
          "text": [
            "Average Sales by Region:\n",
            "NA_Sales       0.264667\n",
            "EU_Sales       0.146652\n",
            "JP_Sales       0.077782\n",
            "Other_Sales    0.048063\n",
            "dtype: float64\n"
          ]
        }
      ],
      "source": [
        "# Determine the average sales for each region\n",
        "average_sales = df[['NA_Sales', 'EU_Sales', 'JP_Sales', 'Other_Sales']].mean()\n",
        "print('Average Sales by Region:')\n",
        "print(average_sales)"
      ]
    },
    {
      "cell_type": "code",
      "execution_count": 5,
      "metadata": {},
      "outputs": [
        {
          "name": "stdout",
          "output_type": "stream",
          "text": [
            "Top 5 Game Genres by Global Sales:\n",
            "Genre\n",
            "Action          1751.18\n",
            "Sports          1330.93\n",
            "Shooter         1037.37\n",
            "Role-Playing     927.37\n",
            "Platform         831.37\n",
            "Name: Global_Sales, dtype: float64\n"
          ]
        }
      ],
      "source": [
        "# Find the top 5 most popular game genres based on global sales\n",
        "top_genres = df.groupby('Genre')['Global_Sales'].sum().nlargest(5)\n",
        "print('Top 5 Game Genres by Global Sales:')\n",
        "print(top_genres)\n"
      ]
    },
    {
      "cell_type": "code",
      "execution_count": 6,
      "metadata": {},
      "outputs": [
        {
          "name": "stdout",
          "output_type": "stream",
          "text": [
            "Total Sales by Genre in Each Region:\n",
            "              NA_Sales  EU_Sales  JP_Sales  Other_Sales\n",
            "Genre                                                  \n",
            "Action          877.83    525.00    159.95       187.38\n",
            "Adventure       105.80     64.13     52.07        16.81\n",
            "Fighting        223.59    101.32     87.35        36.68\n",
            "Misc            410.24    215.98    107.76        75.32\n",
            "Platform        447.05    201.63    130.77        51.59\n",
            "Puzzle          123.78     50.78     57.31        12.55\n",
            "Racing          359.42    238.39     56.69        77.27\n",
            "Role-Playing    327.28    188.06    352.31        59.61\n",
            "Shooter         582.60    313.27     38.28       102.69\n",
            "Simulation      183.31    113.38     63.70        31.52\n",
            "Sports          683.35    376.85    135.37       134.97\n",
            "Strategy         68.70     45.34     49.46        11.36\n"
          ]
        }
      ],
      "source": [
        "# Calculate the total sales for each genre in each region\n",
        "total_sales_by_genre = df.groupby('Genre')[['NA_Sales', 'EU_Sales', 'JP_Sales', 'Other_Sales']].sum()\n",
        "print('Total Sales by Genre in Each Region:')\n",
        "print(total_sales_by_genre)"
      ]
    },
    {
      "cell_type": "code",
      "execution_count": 7,
      "metadata": {},
      "outputs": [
        {
          "name": "stdout",
          "output_type": "stream",
          "text": [
            "Most Popular Genre in North America: Action\n"
          ]
        }
      ],
      "source": [
        "\n",
        "# Determine the most popular genre in North America (NA_Sales)\n",
        "most_popular_genre_na = total_sales_by_genre['NA_Sales'].idxmax()\n",
        "print(f'Most Popular Genre in North America: {most_popular_genre_na}')\n"
      ]
    },
    {
      "cell_type": "code",
      "execution_count": 8,
      "metadata": {},
      "outputs": [
        {
          "name": "stdout",
          "output_type": "stream",
          "text": [
            "Last 10 Rows of the Dataset:\n",
            "        Rank                                               Name Platform  \\\n",
            "16588  16591                                   Mega Brain Boost       DS   \n",
            "16589  16592  Chou Ezaru wa Akai Hana: Koi wa Tsuki ni Shiru...      PSV   \n",
            "16590  16593  Eiyuu Densetsu: Sora no Kiseki Material Collec...      PSP   \n",
            "16591  16594                                Myst IV: Revelation       PC   \n",
            "16592  16595                                           Plushees       DS   \n",
            "16593  16596                 Woody Woodpecker in Crazy Castle 5      GBA   \n",
            "16594  16597                      Men in Black II: Alien Escape       GC   \n",
            "16595  16598   SCORE International Baja 1000: The Official Game      PS2   \n",
            "16596  16599                                         Know How 2       DS   \n",
            "16597  16600                                   Spirits & Spells      GBA   \n",
            "\n",
            "         Year         Genre              Publisher  NA_Sales  EU_Sales  \\\n",
            "16588  2008.0        Puzzle  Majesco Entertainment      0.01      0.00   \n",
            "16589  2016.0        Action        dramatic create      0.00      0.00   \n",
            "16590  2007.0  Role-Playing     Falcom Corporation      0.00      0.00   \n",
            "16591  2004.0     Adventure                Ubisoft      0.01      0.00   \n",
            "16592  2008.0    Simulation              Destineer      0.01      0.00   \n",
            "16593  2002.0      Platform                  Kemco      0.01      0.00   \n",
            "16594  2003.0       Shooter             Infogrames      0.01      0.00   \n",
            "16595  2008.0        Racing             Activision      0.00      0.00   \n",
            "16596  2010.0        Puzzle               7G//AMES      0.00      0.01   \n",
            "16597  2003.0      Platform                Wanadoo      0.01      0.00   \n",
            "\n",
            "       JP_Sales  Other_Sales  Global_Sales  \n",
            "16588      0.00          0.0          0.01  \n",
            "16589      0.01          0.0          0.01  \n",
            "16590      0.01          0.0          0.01  \n",
            "16591      0.00          0.0          0.01  \n",
            "16592      0.00          0.0          0.01  \n",
            "16593      0.00          0.0          0.01  \n",
            "16594      0.00          0.0          0.01  \n",
            "16595      0.00          0.0          0.01  \n",
            "16596      0.00          0.0          0.01  \n",
            "16597      0.00          0.0          0.01  \n"
          ]
        }
      ],
      "source": [
        "# Display last 10 rows\n",
        "print('Last 10 Rows of the Dataset:')\n",
        "print(df.tail(10))"
      ]
    },
    {
      "cell_type": "code",
      "execution_count": 9,
      "metadata": {},
      "outputs": [
        {
          "name": "stdout",
          "output_type": "stream",
          "text": [
            "Top 3 Gaming Platforms by Global Sales:\n",
            "Platform\n",
            "PS2     1255.64\n",
            "X360     979.96\n",
            "PS3      957.84\n",
            "Name: Global_Sales, dtype: float64\n"
          ]
        }
      ],
      "source": [
        "# Determine the top 3 gaming platforms with the highest global sales\n",
        "top_platforms = df.groupby('Platform')['Global_Sales'].sum().nlargest(3)\n",
        "print('Top 3 Gaming Platforms by Global Sales:')\n",
        "print(top_platforms)"
      ]
    },
    {
      "cell_type": "code",
      "execution_count": 10,
      "metadata": {},
      "outputs": [
        {
          "name": "stdout",
          "output_type": "stream",
          "text": [
            "Market Share by Genre:\n",
            "               NA_Sales   EU_Sales   JP_Sales  Other_Sales\n",
            "Genre                                                     \n",
            "Action        19.982700  21.568281  12.389429    23.488562\n",
            "Adventure      2.408404   2.634617   4.033245     2.107176\n",
            "Fighting       5.089746   4.162473   6.765968     4.597932\n",
            "Misc           9.338599   8.872985   8.346889     9.441554\n",
            "Platform      10.176533   8.283452  10.129200     6.466938\n",
            "Puzzle         2.817697   2.086166   4.439126     1.573175\n",
            "Racing         8.181746   9.793643   4.391102     9.685992\n",
            "Role-Playing   7.450119   7.725964  27.289275     7.472266\n",
            "Shooter       13.262159  12.869896   2.965097    12.872454\n",
            "Simulation     4.172822   4.657927   4.934083     3.951113\n",
            "Sports        15.555606  15.481918  10.485508    16.918834\n",
            "Strategy       1.563869   1.862678   3.831079     1.424005\n"
          ]
        }
      ],
      "source": [
        "# Calculate the market share for each genre\n",
        "market_share = (total_sales_by_genre / total_sales_by_genre.sum()) * 100\n",
        "print('Market Share by Genre:')\n",
        "print(market_share)"
      ]
    },
    {
      "cell_type": "code",
      "execution_count": 11,
      "metadata": {},
      "outputs": [
        {
          "name": "stdout",
          "output_type": "stream",
          "text": [
            "Correlation Coefficient between NA_Sales and EU_Sales: 0.767726748370263\n"
          ]
        }
      ],
      "source": [
        "correlation = df['NA_Sales'].corr(df['EU_Sales'])\n",
        "print(f'Correlation Coefficient between NA_Sales and EU_Sales: {correlation}')\n",
        "# ... existing code ..."
      ]
    },
    {
      "cell_type": "markdown",
      "metadata": {
        "id": "TAcoA0P60GrS"
      },
      "source": [
        "## Task 2 English-Spanish Dictionary\n",
        "You are creating a basic English-Spanish dictionary that allows users to look up English words and find their Spanish translations.\n",
        "\n",
        "\n",
        "### Tasks\n",
        "* Create a dictionary where English words are keys and their Spanish translations are values.\n",
        "* Ask the user to input an English word.\n",
        "* Check if the word exists in the dictionary.\n",
        "* If the word exists, print its Spanish translation.\n",
        "* If the word does not exist, inform the user that the translation is not available.\n",
        "* Implement a loop that allows the user to keep looking up words until they choose to exit.\n"
      ]
    },
    {
      "cell_type": "code",
      "execution_count": 1,
      "metadata": {},
      "outputs": [
        {
          "name": "stdout",
          "output_type": "stream",
          "text": [
            "Welcome to the English-Spanish Dictionary!\n",
            "Enter 'quit' to exit\n",
            "Translation not available in dictionary\n",
            "Translation not available in dictionary\n",
            "Translation not available in dictionary\n",
            "Translation not available in dictionary\n",
            "Translation not available in dictionary\n",
            "Translation not available in dictionary\n",
            "Translation not available in dictionary\n",
            "Translation not available in dictionary\n",
            "Translation not available in dictionary\n",
            "Translation not available in dictionary\n",
            "Translation not available in dictionary\n",
            "Spanish translation: por favor\n",
            "¡Adiós! Goodbye!\n"
          ]
        }
      ],
      "source": [
        "# Create English-Spanish dictionary\n",
        "english_spanish = {\n",
        "    'hello': 'hola',\n",
        "    'goodbye': 'adiós',\n",
        "    'thank you': 'gracias',\n",
        "    'please': 'por favor',\n",
        "    'water': 'agua',\n",
        "    'food': 'comida',\n",
        "    'friend': 'amigo',\n",
        "    'house': 'casa',\n",
        "    'car': 'coche',\n",
        "    'time': 'tiempo'\n",
        "}\n",
        "\n",
        "print(\"Welcome to the English-Spanish Dictionary!\")\n",
        "print(\"Enter 'quit' to exit\")\n",
        "\n",
        "while True:\n",
        "    word = input(\"\\nEnter an English word: \").lower()\n",
        "    \n",
        "    if word == 'quit':\n",
        "        print(\"¡Adiós! Goodbye!\")\n",
        "        break\n",
        "        \n",
        "    if word in english_spanish:\n",
        "        print(f\"Spanish translation: {english_spanish[word]}\")\n",
        "    else:\n",
        "        print(\"Translation not available in dictionary\")"
      ]
    },
    {
      "cell_type": "markdown",
      "metadata": {
        "id": "l7D9aut90G_C"
      },
      "source": [
        "\n",
        "## Task 3 Email Classification\n",
        "Develope a tool which will classify an email.\n",
        "\n",
        "### Tasks:\n",
        "* Create a function classify_emails that takes a list of emails as an argument.\n",
        "* Inside the function, categorize emails into \"Important,\" \"Promotions,\" and \"Spam\" based on keywords and content analysis.\n",
        "* Loop through the emails and identify keywords to determine their category.\n",
        "* If an email contains keywords indicating importance, assign it as \"Important.\"\n",
        "* If an email contains keywords related to promotions or deals, assign it as \"Promotions.\"\n",
        "* If an email is suspected to be spam based on certain keywords or patterns, assign it as \"Spam.\"\n",
        "* Return three lists of emails for each category.\n",
        "* Print the lists."
      ]
    },
    {
      "cell_type": "code",
      "execution_count": 2,
      "metadata": {},
      "outputs": [
        {
          "name": "stdout",
          "output_type": "stream",
          "text": [
            "Important Emails:\n",
            "['Urgent: Please review the attached meeting agenda', 'Reminder: Project deadline is next week']\n",
            "\n",
            "Promotions Emails:\n",
            "['Huge Sale! Get 50% discount on our new products', 'Exclusive promotion deal just for you!']\n",
            "\n",
            "Spam Emails:\n",
            "['Congratulations! You just won the lottery', \"Let's get rich quickly by investing in this scheme\"]\n"
          ]
        },
        {
          "data": {
            "text/plain": [
              "(['Urgent: Please review the attached meeting agenda',\n",
              "  'Reminder: Project deadline is next week'],\n",
              " ['Huge Sale! Get 50% discount on our new products',\n",
              "  'Exclusive promotion deal just for you!'],\n",
              " ['Congratulations! You just won the lottery',\n",
              "  \"Let's get rich quickly by investing in this scheme\"])"
            ]
          },
          "execution_count": 2,
          "metadata": {},
          "output_type": "execute_result"
        }
      ],
      "source": [
        "def classify_emails(emails):\n",
        "    important_keywords = [\"urgent\", \"important\", \"deadline\", \"meeting\"]\n",
        "    promotions_keywords = [\"sale\", \"discount\", \"promotion\", \"deal\"]\n",
        "    spam_keywords = [\"lottery\", \"prince\", \"rich\", \"money\"]\n",
        "    \n",
        "    important_emails = []\n",
        "    promotions_emails = []\n",
        "    spam_emails = []\n",
        "    \n",
        "    for email in emails:\n",
        "        email_lower = email.lower()\n",
        "        \n",
        "        if any(keyword in email_lower for keyword in important_keywords):\n",
        "            important_emails.append(email)\n",
        "        elif any(keyword in email_lower for keyword in promotions_keywords):\n",
        "            promotions_emails.append(email)\n",
        "        elif any(keyword in email_lower for keyword in spam_keywords):\n",
        "            spam_emails.append(email)\n",
        "        else:\n",
        "            spam_emails.append(email)\n",
        "    \n",
        "    print(\"Important Emails:\")\n",
        "    print(important_emails)\n",
        "    print(\"\\nPromotions Emails:\")\n",
        "    print(promotions_emails)\n",
        "    print(\"\\nSpam Emails:\")\n",
        "    print(spam_emails)\n",
        "    \n",
        "    return important_emails, promotions_emails, spam_emails\n",
        "\n",
        "# Example usage:\n",
        "sample_emails = [\n",
        "    \"Urgent: Please review the attached meeting agenda\",\n",
        "    \"Huge Sale! Get 50% discount on our new products\",\n",
        "    \"Congratulations! You just won the lottery\",\n",
        "    \"Reminder: Project deadline is next week\",\n",
        "    \"Exclusive promotion deal just for you!\",\n",
        "    \"Let's get rich quickly by investing in this scheme\"\n",
        "]\n",
        "\n",
        "classify_emails(sample_emails)"
      ]
    },
    {
      "cell_type": "markdown",
      "metadata": {
        "id": "0brD8K130gh8"
      },
      "source": [
        "## Task 4 Online Store Shopping Cart\n",
        "Write a Python program to simulate the online store's shopping cart system. The program should use a while loop to provide an interactive shopping experience.\n",
        "\n",
        "\n",
        "### Tasks:\n",
        "* Initialize an empty list called shopping_cart to store items.\n",
        "* Display a welcome message and available products.\n",
        "* Loop should be iterating over AI Response Simulator and Investment decision and keep asking for user input.\n",
        "* Prompt the user to enter the number corresponding to the product they want to add to the cart.\n",
        "* Check if the user entered 'q'. If so, break the loop.\n",
        "* Convert the choice to an integer and validate it within the valid range (1 to 3).\n",
        "* Based on the user's choice, add the selected product to the shopping_cart list.\n",
        "* Display a confirmation message indicating the added product.\n",
        "* Continue the loop to allow the user to add more products or proceed to checkout.\n",
        "* After the loop ends, display the contents of the shopping cart.\n",
        "* Display a goodbye message.\n",
        "* End the program."
      ]
    },
    {
      "cell_type": "code",
      "execution_count": 3,
      "metadata": {},
      "outputs": [
        {
          "name": "stdout",
          "output_type": "stream",
          "text": [
            "Welcome to the Online Store!\n",
            "Available products:\n",
            "1. AI Response Simulator\n",
            "2. Investment Decision\n",
            "3. Checkout\n",
            "Added 'AI Response Simulator' to your cart.\n",
            "Added 'Investment Decision' to your cart.\n",
            "Your shopping cart contains:\n",
            "- AI Response Simulator\n",
            "- Investment Decision\n",
            "Thank you for shopping with us. Goodbye!\n"
          ]
        }
      ],
      "source": [
        "shopping_cart = []\n",
        "products = [\"AI Response Simulator\", \"Investment Decision\", \"Checkout\"]\n",
        "\n",
        "print(\"Welcome to the Online Store!\")\n",
        "print(\"Available products:\")\n",
        "for i, product in enumerate(products, start=1):\n",
        "    print(f\"{i}. {product}\")\n",
        "\n",
        "while True:\n",
        "    choice = input(\"Enter the product number to add to cart (or 'q' to quit): \").lower()\n",
        "    if choice == 'q':\n",
        "        break\n",
        "    try:\n",
        "        choice_num = int(choice)\n",
        "        if 1 <= choice_num <= 3:\n",
        "            selected_product = products[choice_num - 1]\n",
        "            if selected_product != \"Checkout\":\n",
        "                shopping_cart.append(selected_product)\n",
        "                print(f\"Added '{selected_product}' to your cart.\")\n",
        "            else:\n",
        "                break\n",
        "        else:\n",
        "            print(\"Invalid selection. Please choose a valid product number.\")\n",
        "    except ValueError:\n",
        "        print(\"Please enter a valid number or 'q' to quit.\")\n",
        "\n",
        "print(\"Your shopping cart contains:\")\n",
        "for item in shopping_cart:\n",
        "    print(f\"- {item}\")\n",
        "print(\"Thank you for shopping with us. Goodbye!\")"
      ]
    },
    {
      "cell_type": "markdown",
      "metadata": {
        "id": "2u1i-sXA0mYb"
      },
      "source": [
        "## Task 5\n",
        "* Create two NumPy arrays of the same shape and perform element-wise addition on them.\n",
        "* Calculate the element-wise product of two NumPy arrays."
      ]
    },
    {
      "cell_type": "code",
      "execution_count": 5,
      "metadata": {},
      "outputs": [
        {
          "name": "stdout",
          "output_type": "stream",
          "text": [
            "Element-wise addition:\n",
            "[ 6  8 10 12]\n",
            "\n",
            "Element-wise product:\n",
            "[ 5 12 21 32]\n"
          ]
        }
      ],
      "source": [
        "import numpy as np\n",
        "# Create two NumPy arrays of the same shape\n",
        "arr1 = np.array([1, 2, 3, 4])\n",
        "arr2 = np.array([5, 6, 7, 8])\n",
        "\n",
        "# Perform element-wise addition\n",
        "addition_result = arr1 + arr2\n",
        "\n",
        "# Perform element-wise product\n",
        "product_result = arr1 * arr2\n",
        "\n",
        "print(\"Element-wise addition:\")\n",
        "print(addition_result)\n",
        "\n",
        "print(\"\\nElement-wise product:\")\n",
        "print(product_result)"
      ]
    },
    {
      "cell_type": "markdown",
      "metadata": {
        "id": "bhV4sIZU1Iui"
      },
      "source": [
        "## Task 6\n",
        "* Reshape a 1D NumPy array into a 2D array with dimensions (3, 4).\n",
        "\n",
        "* Concatenate two NumPy arrays horizontally and vertically."
      ]
    },
    {
      "cell_type": "code",
      "execution_count": 6,
      "metadata": {},
      "outputs": [
        {
          "name": "stdout",
          "output_type": "stream",
          "text": [
            "Reshaped 2D array (3x4):\n",
            "[[ 1  2  3  4]\n",
            " [ 5  6  7  8]\n",
            " [ 9 10 11 12]]\n",
            "\n",
            "Horizontal Concatenation:\n",
            "[1 2 3 4 5 6 7 8]\n",
            "\n",
            "Vertical Concatenation:\n",
            "[[1 2 3 4]\n",
            " [5 6 7 8]]\n"
          ]
        }
      ],
      "source": [
        "# Reshape a 1D NumPy array into a 2D array (3x4)\n",
        "arr_1d_task6 = np.arange(1, 13)\n",
        "arr_2d_task6 = arr_1d_task6.reshape(3, 4)\n",
        "print(\"Reshaped 2D array (3x4):\")\n",
        "print(arr_2d_task6)\n",
        "\n",
        "# Concatenate two NumPy arrays horizontally\n",
        "horizontal_concat = np.hstack((arr1, arr2))\n",
        "print(\"\\nHorizontal Concatenation:\")\n",
        "print(horizontal_concat)\n",
        "\n",
        "# Concatenate two NumPy arrays vertically\n",
        "vertical_concat = np.vstack((arr1, arr2))\n",
        "print(\"\\nVertical Concatenation:\")\n",
        "print(vertical_concat)"
      ]
    },
    {
      "cell_type": "markdown",
      "metadata": {
        "id": "HJYa0CKL1bGi"
      },
      "source": [
        "## Task 7\n",
        "* Reverse A List In Python Using Slicing\n"
      ]
    },
    {
      "cell_type": "code",
      "execution_count": 7,
      "metadata": {},
      "outputs": [
        {
          "name": "stdout",
          "output_type": "stream",
          "text": [
            "Original list: [10, 20, 30, 40, 50]\n",
            "Reversed list: [50, 40, 30, 20, 10]\n"
          ]
        }
      ],
      "source": [
        "example_list = [10, 20, 30, 40, 50]\n",
        "reversed_list = example_list[::-1]\n",
        "print(\"Original list:\", example_list)\n",
        "print(\"Reversed list:\", reversed_list)"
      ]
    },
    {
      "cell_type": "markdown",
      "metadata": {
        "id": "hkrCxw4XSRl0"
      },
      "source": [
        "# TASK 8\n",
        "You need to download the GitHub Desktop software, push your lab task to your GitHub account, and share the link on GCR as a submission."
      ]
    }
  ],
  "metadata": {
    "colab": {
      "provenance": []
    },
    "kernelspec": {
      "display_name": "Python 3",
      "name": "python3"
    },
    "language_info": {
      "codemirror_mode": {
        "name": "ipython",
        "version": 3
      },
      "file_extension": ".py",
      "mimetype": "text/x-python",
      "name": "python",
      "nbconvert_exporter": "python",
      "pygments_lexer": "ipython3",
      "version": "3.12.5"
    }
  },
  "nbformat": 4,
  "nbformat_minor": 0
}
